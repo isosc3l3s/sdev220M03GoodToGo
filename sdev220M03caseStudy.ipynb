{
 "cells": [
  {
   "cell_type": "code",
   "execution_count": 1,
   "id": "5d682213",
   "metadata": {},
   "outputs": [],
   "source": [
    "class Vehicle():\n",
    "    def __init__(self, type):\n",
    "        self.type = type"
   ]
  },
  {
   "cell_type": "code",
   "execution_count": 3,
   "id": "44fd0332",
   "metadata": {},
   "outputs": [],
   "source": [
    "Vehicle.type = 'Car'"
   ]
  },
  {
   "cell_type": "code",
   "execution_count": 4,
   "id": "243b69f9",
   "metadata": {},
   "outputs": [
    {
     "data": {
      "text/plain": [
       "'Car'"
      ]
     },
     "execution_count": 4,
     "metadata": {},
     "output_type": "execute_result"
    }
   ],
   "source": [
    "Vehicle.type"
   ]
  },
  {
   "cell_type": "code",
   "execution_count": 5,
   "id": "cb64c1b6",
   "metadata": {},
   "outputs": [],
   "source": [
    "class Automobile(Vehicle):\n",
    "    def  __init__(self, type, year, make, model, noDoors, roof):\n",
    "        super().__init__(type)\n",
    "        self.year = year\n",
    "        self.make = make\n",
    "        self.model = model\n",
    "        self.noDoors = noDoors\n",
    "        self.roof = roof"
   ]
  },
  {
   "cell_type": "code",
   "execution_count": 6,
   "id": "24fa7cf5",
   "metadata": {},
   "outputs": [],
   "source": [
    "car = Automobile('Car','2000', 'Jeep', 'Wrangler', '2', 'Solid Roof')"
   ]
  },
  {
   "cell_type": "code",
   "execution_count": 7,
   "id": "c072bc9e",
   "metadata": {},
   "outputs": [
    {
     "name": "stdout",
     "output_type": "stream",
     "text": [
      "please enter the make of your car. Toyota\n",
      "please enter the year for your car. 2022\n",
      "please enter the model of your car. Corolla\n",
      "does your car have 2 doors or 4? 4\n",
      "does your car have a sun roof or a solid roof or not? Sun Roof\n"
     ]
    }
   ],
   "source": [
    "car.make = input(\"please enter the make of your car. \")\n",
    "car.year = input(\"please enter the year for your car. \")\n",
    "car.model = input(\"please enter the model of your car. \")\n",
    "car.doors = input(\"does your car have 2 doors or 4? \")\n",
    "car.roof = input(\"does your car have a sun roof or a solid roof or not? \")"
   ]
  },
  {
   "cell_type": "code",
   "execution_count": 8,
   "id": "8f4333f4",
   "metadata": {},
   "outputs": [
    {
     "name": "stdout",
     "output_type": "stream",
     "text": [
      "Vehicle Type: Car \n",
      "Year: 2022 \n",
      "Make: Toyota \n",
      "Model: Corolla \n",
      "Doors: 4 \n",
      "Roof: Sun Roof\n"
     ]
    }
   ],
   "source": [
    "print(\"Vehicle Type: \"+car.type, \"\\nYear: \"+car.year, \"\\nMake: \"+car.make, \"\\nModel: \"+car.model, \"\\nDoors: \"+car.doors, \"\\nRoof: \"+car.roof)"
   ]
  },
  {
   "cell_type": "code",
   "execution_count": null,
   "id": "1d79e95b",
   "metadata": {},
   "outputs": [],
   "source": []
  }
 ],
 "metadata": {
  "kernelspec": {
   "display_name": "Python 3 (ipykernel)",
   "language": "python",
   "name": "python3"
  },
  "language_info": {
   "codemirror_mode": {
    "name": "ipython",
    "version": 3
   },
   "file_extension": ".py",
   "mimetype": "text/x-python",
   "name": "python",
   "nbconvert_exporter": "python",
   "pygments_lexer": "ipython3",
   "version": "3.9.12"
  }
 },
 "nbformat": 4,
 "nbformat_minor": 5
}
